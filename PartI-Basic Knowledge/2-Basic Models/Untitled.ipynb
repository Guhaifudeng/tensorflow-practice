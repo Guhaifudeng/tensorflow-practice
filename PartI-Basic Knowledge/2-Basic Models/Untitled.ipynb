{
 "cells": [
  {
   "cell_type": "code",
   "execution_count": 2,
   "metadata": {
    "collapsed": true
   },
   "outputs": [],
   "source": [
    "# %load logistic_regression.py\n",
    "#!python35\n",
    "###Libraries\n",
    "#Standard Library\n",
    "\n",
    "#Third Library\n",
    "import numpy as np\n",
    "import tensorflow as tf\n",
    "\n"
   ]
  },
  {
   "cell_type": "code",
   "execution_count": 3,
   "metadata": {},
   "outputs": [
    {
     "name": "stdout",
     "output_type": "stream",
     "text": [
      "Extracting /data/train-images-idx3-ubyte.gz\n",
      "Extracting /data/train-labels-idx1-ubyte.gz\n",
      "Extracting /data/t10k-images-idx3-ubyte.gz\n",
      "Extracting /data/t10k-labels-idx1-ubyte.gz\n"
     ]
    }
   ],
   "source": [
    "#载入数据\n",
    "from tensorflow.examples.tutorials.mnist import input_data\n",
    "mnist = input_data.read_data_sets('/data/',one_hot = True)\n"
   ]
  },
  {
   "cell_type": "code",
   "execution_count": 4,
   "metadata": {
    "collapsed": true
   },
   "outputs": [],
   "source": [
    "#训练参数：学习速率、迭代次数、小样本集\n",
    "learning_rate = 0.01\n",
    "training_epochs = 25\n",
    "batch_size = 100\n",
    "display_step = 1\n",
    "###设计计算图\n",
    "#计算图的Input\n",
    "x = tf.placeholder(tf.float32, [None, 784]) # mnist data image of shape 28*28=784\n",
    "y = tf.placeholder(tf.float32, [None, 10]) # 0-9 digits recognition => 10 classes\n",
    "\n",
    "# 初始化模型参数\n",
    "W = tf.Variable(tf.zeros([784, 10]))\n",
    "b = tf.Variable(tf.zeros([10]))\n",
    "\n",
    "#逻辑斯谛模型\n",
    "pred = tf.nn.softmax(tf.matmul(x,W) + b)\n",
    "\n",
    "#交叉熵代价函数\n",
    "cost = tf.reduce_mean(- tf.reduce_sum(y * tf.log(pred), reduction_indices = 1))\n",
    "\n",
    "#梯度下降\n",
    "#(根据cost、x确定是随机梯度下降还是在线梯度下降还是梯度下降)\n",
    "optimizer = tf.train.GradientDescentOptimizer(learning_rate).minimize(cost)\n",
    "#初始化参数\n",
    "init = tf.global_variables_initializer()\n",
    "\n"
   ]
  },
  {
   "cell_type": "code",
   "execution_count": 8,
   "metadata": {},
   "outputs": [
    {
     "name": "stdout",
     "output_type": "stream",
     "text": [
      "Epoch 0001 cost= 1.183745973\n",
      "Epoch 0002 cost= 0.665292060\n",
      "Epoch 0003 cost= 0.552874545\n",
      "Epoch 0004 cost= 0.498747207\n",
      "Epoch 0005 cost= 0.465545168\n",
      "Epoch 0006 cost= 0.442564479\n",
      "Epoch 0007 cost= 0.425494197\n",
      "Epoch 0008 cost= 0.412180245\n",
      "Epoch 0009 cost= 0.401371681\n",
      "Epoch 0010 cost= 0.392368640\n",
      "Epoch 0011 cost= 0.384789609\n",
      "Epoch 0012 cost= 0.378162694\n",
      "Epoch 0013 cost= 0.372383760\n",
      "Epoch 0014 cost= 0.367275719\n",
      "Epoch 0015 cost= 0.362732367\n",
      "Epoch 0016 cost= 0.358630094\n",
      "Epoch 0017 cost= 0.354871757\n",
      "Epoch 0018 cost= 0.351493592\n",
      "Epoch 0019 cost= 0.348327172\n",
      "Epoch 0020 cost= 0.345452781\n",
      "Epoch 0021 cost= 0.342738419\n",
      "Epoch 0022 cost= 0.340255550\n",
      "Epoch 0023 cost= 0.337939511\n",
      "Epoch 0024 cost= 0.335779369\n",
      "Epoch 0025 cost= 0.333738444\n",
      "Optimization Finished!\n",
      "Accuracy: 0.9143\n"
     ]
    }
   ],
   "source": [
    "###运行计算图\n",
    "with tf.Session() as sess:\n",
    "    sess.run(init)#去掉会怎样\n",
    "    #训练\n",
    "    for epoch in range(training_epochs):\n",
    "        avg_cost = 0\n",
    "        total_batch = int(mnist.train.num_examples/batch_size)\n",
    "        #遍历所有样本集\n",
    "\n",
    "        for i in range(total_batch):\n",
    "            batch_xs, batch_ys = mnist.train.next_batch(batch_size)\n",
    "            #print(batch_xs.shape,batch_ys.shape)\n",
    "            _, c = sess.run([optimizer, cost], feed_dict = {x:batch_xs, y:batch_ys})\n",
    "            #计算平均损失\n",
    "            avg_cost += c / total_batch\n",
    "\n",
    "        if(epoch +1 ) % display_step == 0:\n",
    "            print('Epoch','%04d' % (epoch+1),'cost=','{:.9f}'.format(avg_cost))\n",
    "\n",
    "    print('Optimization Finished!')\n",
    "\n",
    "    #测试模型\n",
    "    # argmax(*, 1) 行选取最大值索引\n",
    "    correct_prediction = tf.equal(tf.argmax(pred, 1), tf.argmax(y, 1))\n",
    "    #计算准确度\n",
    "    #cast 转换张量数值类型\n",
    "    accuracy = tf.reduce_mean(tf.cast(correct_prediction, tf.float32))\n",
    "    print(\"Accuracy:\", accuracy.eval({x:mnist.test.images, y:mnist.test.labels}))"
   ]
  }
 ],
 "metadata": {
  "kernelspec": {
   "display_name": "Python 3",
   "language": "python",
   "name": "python3"
  },
  "language_info": {
   "codemirror_mode": {
    "name": "ipython",
    "version": 3
   },
   "file_extension": ".py",
   "mimetype": "text/x-python",
   "name": "python",
   "nbconvert_exporter": "python",
   "pygments_lexer": "ipython3",
   "version": "3.5.3"
  }
 },
 "nbformat": 4,
 "nbformat_minor": 2
}
