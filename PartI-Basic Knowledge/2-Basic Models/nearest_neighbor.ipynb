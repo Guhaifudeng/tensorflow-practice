{
 "cells": [
  {
   "cell_type": "markdown",
   "metadata": {},
   "source": [
    "载入数据"
   ]
  },
  {
   "cell_type": "code",
   "execution_count": 2,
   "metadata": {},
   "outputs": [
    {
     "name": "stdout",
     "output_type": "stream",
     "text": [
      "Extracting /data/train-images-idx3-ubyte.gz\n",
      "Extracting /data/train-labels-idx1-ubyte.gz\n",
      "Extracting /data/t10k-images-idx3-ubyte.gz\n",
      "Extracting /data/t10k-labels-idx1-ubyte.gz\n"
     ]
    }
   ],
   "source": [
    "# %load nearest_neighbor.py\n",
    "#!python35\n",
    "###Libraries\n",
    "#Standard Library\n",
    "\n",
    "#Third Library\n",
    "import numpy as np\n",
    "import tensorflow as tf\n",
    "from tensorflow.examples.tutorials.mnist import input_data\n",
    "mnist = input_data.read_data_sets('/data/',one_hot = True)"
   ]
  },
  {
   "cell_type": "markdown",
   "metadata": {},
   "source": [
    "提取样本数据"
   ]
  },
  {
   "cell_type": "code",
   "execution_count": 3,
   "metadata": {
    "collapsed": true
   },
   "outputs": [],
   "source": [
    "#样本数据\n",
    "Xtr, Ytr = mnist.train.next_batch(5000)\n",
    "Xte, Yte = mnist.test.next_batch(200)\n",
    "#print(Ytr.shape) (50000,10)"
   ]
  },
  {
   "cell_type": "markdown",
   "metadata": {},
   "source": [
    "构建计算图"
   ]
  },
  {
   "cell_type": "code",
   "execution_count": 8,
   "metadata": {
    "collapsed": true
   },
   "outputs": [],
   "source": [
    "#tf Graph Input\n",
    "xtr = tf.placeholder('float', [None ,784]) #数据集\n",
    "xte = tf.placeholder('float', [784])       #测试集中的某一点x\n",
    "\n",
    "###k-邻近算法\n",
    "#距离：L1范数\n",
    "#reduction_indices = 1 表示行求和\n",
    "distance = tf.reduce_sum(tf.abs(tf.add(xtr, tf.negative(xte))), reduction_indices = 1)\n",
    "#最小距离索引\n",
    "# 0 - 按列取最小值坐标\n",
    "pred = tf.arg_min(distance, 0)\n",
    "#精确度\n",
    "accuracy = 0\n",
    "\n",
    "#初始化变量\n",
    "init = tf.global_variables_initializer()\n"
   ]
  },
  {
   "cell_type": "markdown",
   "metadata": {},
   "source": [
    "运行计算图"
   ]
  },
  {
   "cell_type": "code",
   "execution_count": 52,
   "metadata": {},
   "outputs": [
    {
     "name": "stdout",
     "output_type": "stream",
     "text": [
      "Accuracy: 2.76\n"
     ]
    }
   ],
   "source": [
    "#运行计算图\n",
    "with tf.Session() as sess:\n",
    "    sess.run(init)\n",
    "\n",
    "    #遍历测试数据\n",
    "    for i in range(len(Xte)):\n",
    "        nn_index = sess.run(pred , feed_dict = {xtr:Xtr,xte: Xte[i,:]})\n",
    "        #print(nn_index)\n",
    "        #根据最近点索引得到\n",
    "        #print('Test',i,\"pred:\",np.argmax(Ytr[nn_index]),'true class:',np.argmax(Yte[i]))\n",
    "\n",
    "        if np.argmax(Ytr[nn_index]) ==np.argmax(Yte[i]):\n",
    "            accuracy += 1\n",
    "    print('Accuracy:',accuracy/len(Xte))"
   ]
  }
 ],
 "metadata": {
  "kernelspec": {
   "display_name": "Python 3",
   "language": "python",
   "name": "python3"
  },
  "language_info": {
   "codemirror_mode": {
    "name": "ipython",
    "version": 3
   },
   "file_extension": ".py",
   "mimetype": "text/x-python",
   "name": "python",
   "nbconvert_exporter": "python",
   "pygments_lexer": "ipython3",
   "version": "3.5.3"
  }
 },
 "nbformat": 4,
 "nbformat_minor": 2
}
