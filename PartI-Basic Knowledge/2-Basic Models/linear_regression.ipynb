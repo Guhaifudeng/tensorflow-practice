{
 "cells": [
  {
   "cell_type": "code",
   "execution_count": 2,
   "metadata": {
    "collapsed": true
   },
   "outputs": [],
   "source": [
    "# %load linear_regression.py\n",
    "#!python35\n",
    "###Libraries\n",
    "#Standard Library\n",
    "#Third Library\n",
    "import tensorflow  as tf\n",
    "import numpy as np\n",
    "import matplotlib.pyplot as plt\n"
   ]
  },
  {
   "cell_type": "code",
   "execution_count": 3,
   "metadata": {},
   "outputs": [
    {
     "name": "stdout",
     "output_type": "stream",
     "text": [
      "(17,)\n"
     ]
    }
   ],
   "source": [
    "###线性回归\n",
    "#parameters\n",
    "#学习速率(*梯度)\n",
    "learning_rate = 0.001\n",
    "#迭代次数\n",
    "training_epochs = 1000\n",
    "#数据显示控制\n",
    "#验证是否收敛\n",
    "display_step = 500\n",
    "\n",
    "\n",
    "# 训练集\n",
    "train_X = np.asarray([3.3,4.4,5.5,6.71,6.93,4.168,9.779,6.182,7.59,2.167,\n",
    "                         7.042,10.791,5.313,7.997,5.654,9.27,3.1])\n",
    "train_Y = np.asarray([1.7,2.76,2.09,3.19,1.694,1.573,3.366,2.596,2.53,1.221,\n",
    "                         2.827,3.465,1.65,2.904,2.42,2.94,1.3])\n",
    "n_samples = train_X.shape[0]\n",
    "print(train_X.shape)\n"
   ]
  },
  {
   "cell_type": "code",
   "execution_count": 4,
   "metadata": {
    "collapsed": true
   },
   "outputs": [],
   "source": [
    "# tf Graph Input\n",
    "#思考：多维数据是否可以？\n",
    "#X = tf.placeholder(\"float\")\n",
    "#Y = tf.placeholder(\"float\")\n",
    "#矩阵:[None,]\n",
    "X = tf.placeholder(\"float\",[None,])\n",
    "Y = tf.placeholder(\"float\",[None,])\n",
    "\n",
    "# 设置模型参数\n",
    "W = tf.Variable(np.random.randn(), name=\"weight\")\n",
    "b = tf.Variable(np.random.randn(), name=\"bias\")\n",
    "\n",
    "# 模型：线性回归\n",
    "pred = tf.add(tf.multiply(X, W), b)\n",
    "\n",
    "# 代价函数：均方差\n",
    "cost = tf.reduce_sum(tf.pow(pred-Y, 2))/(2*n_samples)\n",
    "\n",
    "#优化算法：梯度下降\n",
    "optimizer = tf.train.GradientDescentOptimizer(learning_rate).minimize(cost)\n",
    "\n",
    "#初始化变量\n",
    "init = tf.global_variables_initializer()\n"
   ]
  },
  {
   "cell_type": "code",
   "execution_count": 13,
   "metadata": {},
   "outputs": [
    {
     "name": "stdout",
     "output_type": "stream",
     "text": [
      "Epoch: 0500 cost= 0.147555619 W= 0.402304 b= -0.269375\n",
      "Epoch: 1000 cost= 0.139482126 W= 0.393431 b= -0.20647\n",
      "Optimization Finished!\n",
      "Training cost= 0.139482 W= 0.393431 b= -0.20647 \n",
      "\n"
     ]
    },
    {
     "data": {
      "image/png": "[encoded data removed]",
      "text/plain": [
       "<matplotlib.figure.Figure at 0x7850438>"
      ]
     },
     "metadata": {},
     "output_type": "display_data"
    },
    {
     "name": "stdout",
     "output_type": "stream",
     "text": [
      "Testing ... (Mean square loss comparison)\n",
      "Testing cost = 0.118878\n",
      "Absolute mean suquare loss difference: 0.0\n"
     ]
    },
    {
     "data": {
      "image/png": "[encoded data removed]",
      "text/plain": [
       "<matplotlib.figure.Figure at 0x78c1940>"
      ]
     },
     "metadata": {},
     "output_type": "display_data"
    }
   ],
   "source": [
    "#运行计算图\n",
    "with tf.Session() as sess:\n",
    "    sess.run(init)\n",
    "\n",
    "    #拟合训练数据\n",
    "    for epoch in range(training_epochs):\n",
    "        sess.run(optimizer, feed_dict= {X:train_X,Y:train_Y})\n",
    "\n",
    "        #每一个epoch step输出一次cost\n",
    "\n",
    "        if (epoch + 1 ) % display_step == 0:\n",
    "            c = sess.run(cost, feed_dict={X:train_X,Y:train_Y})\n",
    "            print(\"Epoch:\",\"%04d\" % (epoch+1),\"cost=\",\"{:.9f}\".format(c),\\\n",
    "             \"W=\",sess.run(W),\"b=\",sess.run(b))\n",
    "    print(\"Optimization Finished!\")\n",
    "\n",
    "    training_cost = sess.run(cost,feed_dict= {X:train_X,Y:train_Y})\n",
    "    print(\"Training cost=\", training_cost, \"W=\", sess.run(W), \"b=\", sess.run(b), '\\n')\n",
    "    ###绘制图形\n",
    "\n",
    "    plt.plot(train_X, train_Y,'ro',label = 'Original Data')\n",
    "    plt.plot(train_X, sess.run(W)*train_X + sess.run(b), label = 'Fitted line')\n",
    "    plt.legend()\n",
    "    plt.show()\n",
    "    ###Testing example, as requested\n",
    "    test_X = np.asarray([6.83, 4.668, 8.9, 7.91, 5.7, 8.7, 3.1, 2.1])\n",
    "    test_Y = np.asarray([1.84, 2.273, 3.2, 2.831, 2.92, 3.24, 1.35, 1.03])\n",
    "    print(\"Testing ... (Mean square loss comparison)\")\n",
    "    testing_cost = sess.run(\n",
    "        tf.reduce_sum(tf.pow(pred - Y, 2)) / (2 * test_X.shape[0]),\n",
    "        feed_dict = {X:test_X, Y:test_Y})\n",
    "    print('Testing cost =',testing_cost)\n",
    "    print('Absolute mean suquare loss difference:', abs(testing_cost - testing_cost))\n",
    "\n",
    "    plt.plot(test_X, test_Y, 'bo', label='Testing data')\n",
    "    plt.plot(train_X, sess.run(W) * train_X + sess.run(b), label='Fitted line')\n",
    "    plt.legend()\n",
    "    plt.show()\n",
    "\n"
   ]
  }
 ],
 "metadata": {
  "kernelspec": {
   "display_name": "Python 3",
   "language": "python",
   "name": "python3"
  },
  "language_info": {
   "codemirror_mode": {
    "name": "ipython",
    "version": 3
   },
   "file_extension": ".py",
   "mimetype": "text/x-python",
   "name": "python",
   "nbconvert_exporter": "python",
   "pygments_lexer": "ipython3",
   "version": "3.5.3"
  }
 },
 "nbformat": 4,
 "nbformat_minor": 2
}
